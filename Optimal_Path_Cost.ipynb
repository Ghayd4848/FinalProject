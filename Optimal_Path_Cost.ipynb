{
 "cells": [
  {
   "cell_type": "code",
   "execution_count": 1,
   "id": "e5219209",
   "metadata": {},
   "outputs": [
    {
     "name": "stdout",
     "output_type": "stream",
     "text": [
      "{'type': 'amadeusOAuth2Token', 'username': 'laurenmbair@gmail.com', 'application_name': 'Travel Planner', 'client_id': 'ip7U6tdqiwHWuuWsAvsC4MM8lficjGe7', 'token_type': 'Bearer', 'access_token': 'PKo21nVkwBEAvYC6xgf6AbJRXFUy', 'expires_in': 1799, 'state': 'approved', 'scope': ''}\n"
     ]
    }
   ],
   "source": [
    "from dotenv import load_dotenv\n",
    "import os\n",
    "import requests\n",
    "\n",
    "load_dotenv()\n",
    "\n",
    "maps_api_key = os.getenv(\"MAPS_API_KEY\")\n",
    "\n",
    "amadeus_api_key = os.getenv(\"AMADEUS_API_KEY\")\n",
    "amadeus_api_secret = os.getenv(\"AMADEUS_API_SECRET\")\n",
    "\n",
    "def get_amadeus_token():\n",
    "    response = requests.post(\n",
    "        'https://test.api.amadeus.com/v1/security/oauth2/token',\n",
    "        data={\n",
    "            'grant_type': 'client_credentials',\n",
    "            'client_id': amadeus_api_key,\n",
    "            'client_secret': amadeus_api_secret\n",
    "        }\n",
    "    )\n",
    "    return response.json()\n",
    "\n",
    "print(get_amadeus_token())\n"
   ]
  }
 ],
 "metadata": {
  "kernelspec": {
   "display_name": "Python 3",
   "language": "python",
   "name": "python3"
  },
  "language_info": {
   "codemirror_mode": {
    "name": "ipython",
    "version": 3
   },
   "file_extension": ".py",
   "mimetype": "text/x-python",
   "name": "python",
   "nbconvert_exporter": "python",
   "pygments_lexer": "ipython3",
   "version": "3.10.6"
  }
 },
 "nbformat": 4,
 "nbformat_minor": 5
}
