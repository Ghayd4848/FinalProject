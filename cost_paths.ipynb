{
 "cells": [
  {
   "cell_type": "code",
   "execution_count": 77,
   "metadata": {},
   "outputs": [],
   "source": [
    "import math\n",
    "from ortools.constraint_solver import routing_enums_pb2\n",
    "from ortools.constraint_solver import pywrapcp\n",
    "import time\n",
    "import pandas\n",
    "import matplotlib.pyplot as plt\n",
    "import random"
   ]
  },
  {
   "cell_type": "code",
   "execution_count": 78,
   "metadata": {},
   "outputs": [],
   "source": [
    "def haversine(coord1, coord2):\n",
    "    lat1, lon1 = coord1\n",
    "    lat2, lon2 = coord2\n",
    "    R = 6367\n",
    "\n",
    "    lat1, lon1, lat2, lon2 = map(math.radians, [lat1, lon1, lat2, lon2])\n",
    "    dlat = lat2 - lat1\n",
    "    dlon = lon2 - lon1\n",
    "    a = (math.sin(dlat / 2) ** 2 +\n",
    "    math.cos(lat1) * math.cos(lat2) * math.sin(dlon / 2) ** 2)\n",
    "    c = 2* math.asin(math.sqrt(a))\n",
    "    return R * c"
   ]
  },
  {
   "cell_type": "code",
   "execution_count": null,
   "metadata": {},
   "outputs": [],
   "source": [
    "denver_airport = (\"Denver Airport\", (39.8571391027151, -104.67682422525337))\n",
    "\n",
    "resorts = [\n",
    "    denver_airport,\n",
    "    (\"Vail\", (39.60634275473704, -106.35502534758554)),\n",
    "    (\"Beaver Creek\", (39.601840601122596, -106.53163266107806)),\n",
    "    (\"Breckenridge\", (39.48111351412133, -106.07307234912773)),\n",
    "    (\"Keystone\", (39.58186424927065, -105.94362588806374)),\n",
    "    (\"A-Basin\", (39.634289749362566, -105.8714993899124)),\n",
    "    (\"Eldora\", (39.937376571357305, -105.58271078989766)),\n",
    "    (\"Canyons\", (40.685834569379516, -111.55630231684529)),\n",
    "    (\"Heavenly\", (38.9288904430737, -119.90519040528994)),\n",
    "    (\"Northstar\", (39.26481569676928, -120.13316534575092)),\n",
    "    (\"Kirkwood\", (38.68503611762454, -120.06520941879404)),\n",
    "    (\"Afton Alps\", (44.85782048122588, -92.78779547430095)),\n",
    "    (\"Mt. Brighton\", (42.5410196899345, -83.81160753394613)),\n",
    "    (\"Verbier\", (46.09708737973264, 7.227272162830475)),\n",
    "    (\"Arlberg\", (47.129520437009155, 10.263859008628906)),\n",
    "    (\"The 3 Valleys\", (45.34154189826385, 6.586552723873957)),\n",
    "    #(\"Hakuba\", (36.70953229239828, 137.8375449672692)),\n",
    "    #(\"Stowe\", (44.52780341219657, -72.7840507492601)),\n",
    "    #(\"Whistler\", (50.11510834832886, -122.94864740290662)),\n",
    "    #(\"Falls Creek\", (-36.86255837930399, 147.28225756981914)),\n",
    "    #(\"Park City\", (40.645235089321, -111.49619780528646)),\n",
    "    #(\"Crested Butte\", (38.899637981886706, -106.96593646157648)),\n",
    "    #(\"Stevens Pass\", (47.74592800076063, -121.08961359219548)),\n",
    "    #(\"Hunter\", (42.20309380867143, -74.22469054753368)),\n",
    "    #(\"Okemo\", (43.411331909263986, -72.72848172578584))\n",
    "\n",
    "\n",
    "\n",
    "]"
   ]
  },
  {
   "cell_type": "code",
   "execution_count": 80,
   "metadata": {},
   "outputs": [],
   "source": [
    "drive_cost_per_mile = 0.58\n",
    "flight_variable_cost = 0.14\n",
    "flight_base_fee = 50\n",
    "threshold_miles = 400\n",
    "lodging_per_stop = 120\n",
    "\n",
    "def km_to_miles(km):\n",
    "    return km / 1.60934"
   ]
  },
  {
   "cell_type": "code",
   "execution_count": 81,
   "metadata": {},
   "outputs": [],
   "source": [
    "n = len(resorts)\n",
    "cost_matrix = []\n",
    "for i in range(n):\n",
    "    row = []\n",
    "    for j in range(n):\n",
    "        if i == j:\n",
    "            row.append(0)\n",
    "        else:\n",
    "            dist_km = haversine(resorts[i][1], resorts[j][1])\n",
    "            dist_miles = km_to_miles(dist_km)\n",
    "\n",
    "            if dist_miles > threshold_miles:\n",
    "                transport_cost = (\n",
    "                    flight_base_fee + dist_miles * flight_variable_cost\n",
    "                )\n",
    "            else:\n",
    "                transport_cost = dist_miles * drive_cost_per_mile\n",
    "\n",
    "            lodging_cost = lodging_per_stop if j != 0 else 0\n",
    "\n",
    "            total_cost = transport_cost + lodging_cost\n",
    "\n",
    "            row.append(int(round(total_cost)))\n",
    "    cost_matrix.append(row)"
   ]
  },
  {
   "cell_type": "code",
   "execution_count": 82,
   "metadata": {},
   "outputs": [],
   "source": [
    "def held_karp(cost):\n",
    "    N = len(cost)\n",
    "    C = {}\n",
    "\n",
    "    for k in range(1, N):\n",
    "        C[(1 << k, k)] = cost[0][k]\n",
    "\n",
    "    for s in range(2, N):\n",
    "        for mask in (m for m in range(1 << N)\n",
    "                     if bin(m).count(\"1\") == s and not (m & 1)):\n",
    "            for j in range(1, N):\n",
    "                if not (mask & (1 << j)): continue\n",
    "                prev = mask ^ (1 << j)\n",
    "                best = float('inf')\n",
    "                for k in range(1, N):\n",
    "                    if k == j or not (prev & (1 << k)): continue\n",
    "                    val = C[(prev, k)] + cost[k][j]\n",
    "                    if val < best:\n",
    "                        best = val\n",
    "                C[(mask, j)] = best\n",
    "    full_mask = ((1 << N) - 1) ^ 1\n",
    "    ans = float('inf')\n",
    "    for j in range(1, N):\n",
    "        val = C[(full_mask, j)] + cost[j][0]\n",
    "        if val < ans:\n",
    "            ans = val\n",
    "    return ans"
   ]
  },
  {
   "cell_type": "code",
   "execution_count": 83,
   "metadata": {},
   "outputs": [],
   "source": [
    "manager = pywrapcp.RoutingIndexManager(n, 1, 0)\n",
    "routing = pywrapcp.RoutingModel(manager)"
   ]
  },
  {
   "cell_type": "code",
   "execution_count": 84,
   "metadata": {},
   "outputs": [],
   "source": [
    "def cost_callback(from_idx, to_idx):\n",
    "    return cost_matrix[manager.IndexToNode(from_idx)][manager.IndexToNode(to_idx)]"
   ]
  },
  {
   "cell_type": "code",
   "execution_count": 85,
   "metadata": {},
   "outputs": [],
   "source": [
    "cb_idx = routing.RegisterTransitCallback(cost_callback)\n",
    "routing.SetArcCostEvaluatorOfAllVehicles(cb_idx)"
   ]
  },
  {
   "cell_type": "code",
   "execution_count": 86,
   "metadata": {},
   "outputs": [],
   "source": [
    "search_params = pywrapcp.DefaultRoutingSearchParameters()\n",
    "search_params.first_solution_strategy = (\n",
    "    routing_enums_pb2.FirstSolutionStrategy.PATH_CHEAPEST_ARC\n",
    ")\n",
    "\n",
    "search_params.local_search_metaheuristic = (\n",
    "    routing_enums_pb2.LocalSearchMetaheuristic.GUIDED_LOCAL_SEARCH\n",
    ")\n",
    "\n",
    "search_params.time_limit.seconds = 30"
   ]
  },
  {
   "cell_type": "code",
   "execution_count": 87,
   "metadata": {},
   "outputs": [],
   "source": [
    "#def distance_callback(from_index, to_index):\n",
    "    #from_node = manager.IndexToNode(from_index)\n",
    "    #to_node = manager.IndexToNode(to_index)\n",
    "    #return cost_matrix[from_node][to_node]"
   ]
  },
  {
   "cell_type": "code",
   "execution_count": 88,
   "metadata": {},
   "outputs": [],
   "source": [
    "#transit_callback_index = routing.RegisterTransitCallback(distance_callback)\n",
    "#routing.SetArcCostEvaluatorOfAllVehicles(transit_callback_index)"
   ]
  },
  {
   "cell_type": "code",
   "execution_count": 89,
   "metadata": {},
   "outputs": [],
   "source": [
    "#search_parameters = pywrapcp.DefaultRoutingSearchParameters()\n",
    "#search_parameters.first_solution_strategy = routing_enums_pb2.FirstSolutionStrategy.PATH_CHEAPEST_ARC"
   ]
  },
  {
   "cell_type": "code",
   "execution_count": 90,
   "metadata": {},
   "outputs": [],
   "source": [
    "solution = routing.SolveWithParameters(search_params)"
   ]
  },
  {
   "cell_type": "code",
   "execution_count": null,
   "metadata": {},
   "outputs": [
    {
     "name": "stdout",
     "output_type": "stream",
     "text": [
      "OR Tools route: Denver Airport->Eldora->A-Basin->Keystone->Breckenridge->Vail->Beaver Creek->Crested Butte->Park City->Canyons->Kirkwood->Heavenly->Northstar->Stevens Pass->Whistler->Falls Creek->Hakuba->Arlberg->Verbier->The 3 Valleys->Stowe->Okemo->Hunter->Mt. Brighton->Afton Alps->Denver Airport\n",
      "OR Tools trip cost: $7,520\n"
     ]
    }
   ],
   "source": [
    "if solution:\n",
    "    idx = routing.Start(0)\n",
    "    route = []\n",
    "    or_cost = 0\n",
    "    while not routing.IsEnd(idx):\n",
    "        route.append(resorts[manager.IndexToNode(idx)][0])\n",
    "        prev = idx\n",
    "        idx = solution.Value(routing.NextVar(idx))\n",
    "        or_cost += routing.GetArcCostForVehicle(prev, idx, 0)\n",
    "    route.append(resorts[manager.IndexToNode(idx)][0])\n",
    "\n",
    "    print(\"OR Tools route:\", \"->\".join(route))\n",
    "    print(f\"OR Tools trip cost: ${or_cost:,}\")\n",
    "else:\n",
    "        print(\"No Solution found!\")\n",
    "\n",
    "hk_cost = held_karp(cost_matrix)\n",
    "print(f\"Held-Karp optimal cost: ${hk_cost:,}\")"
   ]
  },
  {
   "cell_type": "code",
   "execution_count": 92,
   "metadata": {},
   "outputs": [],
   "source": [
    "def time_or_tools(sub_cost):\n",
    "    mgr = pywrapcp.RoutingIndexManager(len(sub_cost), 1, 0)\n",
    "    r = pywrapcp.RoutingModel(mgr)\n",
    "    def cb(i, j):\n",
    "        return sub_cost[mgr.IndexToNode(i)][mgr.IndexToNode(j)]\n",
    "    tidx = r.RegisterTransitCallback(cb)\n",
    "    r.SetArcCostEvaluatorOfAllVehicles(tidx)\n",
    "    params = pywrapcp.DefaultRoutingSearchParameters()\n",
    "    params.first_solution_strategy = routing_enums_pb2.FirstSolutionStrategy.PATH_CHEAPEST_ARC\n",
    "\n",
    "    t0 = time.perf_counter()\n",
    "    r.SolveWithParameters(params)\n",
    "    return time.perf_counter() - t0\n",
    "\n",
    "def time_hk(sub_cost):\n",
    "    t0 = time.perf_counter()\n",
    "    held_karp(sub_cost)\n",
    "    return time.perf_counter() - t0\n"
   ]
  },
  {
   "cell_type": "code",
   "execution_count": 93,
   "metadata": {},
   "outputs": [
    {
     "ename": "KeyboardInterrupt",
     "evalue": "",
     "output_type": "error",
     "traceback": [
      "\u001b[0;31m---------------------------------------------------------------------------\u001b[0m",
      "\u001b[0;31mKeyboardInterrupt\u001b[0m                         Traceback (most recent call last)",
      "Cell \u001b[0;32mIn[93], line 13\u001b[0m\n\u001b[1;32m     11\u001b[0m sub \u001b[38;5;241m=\u001b[39m [[cost_matrix[i][j] \u001b[38;5;28;01mfor\u001b[39;00m j \u001b[38;5;129;01min\u001b[39;00m idxs] \u001b[38;5;28;01mfor\u001b[39;00m i \u001b[38;5;129;01min\u001b[39;00m idxs]\n\u001b[1;32m     12\u001b[0m t_or \u001b[38;5;241m=\u001b[39m time_or_tools(sub)\n\u001b[0;32m---> 13\u001b[0m t_hk \u001b[38;5;241m=\u001b[39m \u001b[43mtime_hk\u001b[49m\u001b[43m(\u001b[49m\u001b[43msub\u001b[49m\u001b[43m)\u001b[49m\n\u001b[1;32m     15\u001b[0m records\u001b[38;5;241m.\u001b[39mappend({\n\u001b[1;32m     16\u001b[0m     \u001b[38;5;124m\"\u001b[39m\u001b[38;5;124msize\u001b[39m\u001b[38;5;124m\"\u001b[39m: s,\n\u001b[1;32m     17\u001b[0m     \u001b[38;5;124m\"\u001b[39m\u001b[38;5;124mor_time\u001b[39m\u001b[38;5;124m\"\u001b[39m: t_or,\n\u001b[1;32m     18\u001b[0m     \u001b[38;5;124m\"\u001b[39m\u001b[38;5;124mhk_time\u001b[39m\u001b[38;5;124m\"\u001b[39m: t_hk\n\u001b[1;32m     19\u001b[0m })\n",
      "Cell \u001b[0;32mIn[92], line 17\u001b[0m, in \u001b[0;36mtime_hk\u001b[0;34m(sub_cost)\u001b[0m\n\u001b[1;32m     15\u001b[0m \u001b[38;5;28;01mdef\u001b[39;00m \u001b[38;5;21mtime_hk\u001b[39m(sub_cost):\n\u001b[1;32m     16\u001b[0m     t0 \u001b[38;5;241m=\u001b[39m time\u001b[38;5;241m.\u001b[39mperf_counter()\n\u001b[0;32m---> 17\u001b[0m     \u001b[43mheld_karp\u001b[49m\u001b[43m(\u001b[49m\u001b[43msub_cost\u001b[49m\u001b[43m)\u001b[49m\n\u001b[1;32m     18\u001b[0m     \u001b[38;5;28;01mreturn\u001b[39;00m time\u001b[38;5;241m.\u001b[39mperf_counter() \u001b[38;5;241m-\u001b[39m t0\n",
      "Cell \u001b[0;32mIn[82], line 12\u001b[0m, in \u001b[0;36mheld_karp\u001b[0;34m(cost)\u001b[0m\n\u001b[1;32m      9\u001b[0m \u001b[38;5;28;01mfor\u001b[39;00m mask \u001b[38;5;129;01min\u001b[39;00m (m \u001b[38;5;28;01mfor\u001b[39;00m m \u001b[38;5;129;01min\u001b[39;00m \u001b[38;5;28mrange\u001b[39m(\u001b[38;5;241m1\u001b[39m \u001b[38;5;241m<<\u001b[39m N)\n\u001b[1;32m     10\u001b[0m              \u001b[38;5;28;01mif\u001b[39;00m \u001b[38;5;28mbin\u001b[39m(m)\u001b[38;5;241m.\u001b[39mcount(\u001b[38;5;124m\"\u001b[39m\u001b[38;5;124m1\u001b[39m\u001b[38;5;124m\"\u001b[39m) \u001b[38;5;241m==\u001b[39m s \u001b[38;5;129;01mand\u001b[39;00m \u001b[38;5;129;01mnot\u001b[39;00m (m \u001b[38;5;241m&\u001b[39m \u001b[38;5;241m1\u001b[39m)):\n\u001b[1;32m     11\u001b[0m     \u001b[38;5;28;01mfor\u001b[39;00m j \u001b[38;5;129;01min\u001b[39;00m \u001b[38;5;28mrange\u001b[39m(\u001b[38;5;241m1\u001b[39m, N):\n\u001b[0;32m---> 12\u001b[0m         \u001b[38;5;28;01mif\u001b[39;00m \u001b[38;5;129;01mnot\u001b[39;00m (mask \u001b[38;5;241m&\u001b[39m (\u001b[38;5;241m1\u001b[39m \u001b[38;5;241m<<\u001b[39m j)): \u001b[38;5;28;01mcontinue\u001b[39;00m\n\u001b[1;32m     13\u001b[0m         prev \u001b[38;5;241m=\u001b[39m mask \u001b[38;5;241m^\u001b[39m (\u001b[38;5;241m1\u001b[39m \u001b[38;5;241m<<\u001b[39m j)\n\u001b[1;32m     14\u001b[0m         best \u001b[38;5;241m=\u001b[39m \u001b[38;5;28mfloat\u001b[39m(\u001b[38;5;124m'\u001b[39m\u001b[38;5;124minf\u001b[39m\u001b[38;5;124m'\u001b[39m)\n",
      "\u001b[0;31mKeyboardInterrupt\u001b[0m: "
     ]
    }
   ],
   "source": [
    "N = len(cost_matrix)\n",
    "reps = 5\n",
    "sizes = list(range(5, N+1, 3))\n",
    "\n",
    "records = []\n",
    "for s in sizes:\n",
    "    for _ in range(reps):\n",
    "        others = random.sample(range(1,N), s-1)\n",
    "        idxs = [0] + others\n",
    "\n",
    "        sub = [[cost_matrix[i][j] for j in idxs] for i in idxs]\n",
    "        t_or = time_or_tools(sub)\n",
    "        t_hk = time_hk(sub)\n",
    "\n",
    "        records.append({\n",
    "            \"size\": s,\n",
    "            \"or_time\": t_or,\n",
    "            \"hk_time\": t_hk\n",
    "        })"
   ]
  },
  {
   "cell_type": "code",
   "execution_count": null,
   "metadata": {},
   "outputs": [
    {
     "data": {
      "image/png": "[encoded data removed]",
      "text/plain": [
       "<Figure size 640x480 with 1 Axes>"
      ]
     },
     "metadata": {},
     "output_type": "display_data"
    }
   ],
   "source": [
    "df = pandas.DataFrame(records)\n",
    "agg = df.groupby(\"size\").mean().reset_index()\n",
    "\n",
    "plt.figure()\n",
    "plt.plot(agg[\"size\"], agg[\"or_time\"], marker = \"o\", label = \"OR-Tools\")\n",
    "plt.plot(agg[\"size\"], agg[\"hk_time\"], marker = \"o\", label = \"Held-Karp\")\n",
    "plt.xlabel(\"Number of Nodes\")\n",
    "plt.ylabel(\"Average Runtime (s)\")\n",
    "plt.title(\"TSP Runtime vs. Problem Size\")\n",
    "plt.legend()\n",
    "plt.tight_layout()\n",
    "plt.show()"
   ]
  }
 ],
 "metadata": {
  "kernelspec": {
   "display_name": "Python 3",
   "language": "python",
   "name": "python3"
  },
  "language_info": {
   "codemirror_mode": {
    "name": "ipython",
    "version": 3
   },
   "file_extension": ".py",
   "mimetype": "text/x-python",
   "name": "python",
   "nbconvert_exporter": "python",
   "pygments_lexer": "ipython3",
   "version": "3.11.2"
  }
 },
 "nbformat": 4,
 "nbformat_minor": 2
}
