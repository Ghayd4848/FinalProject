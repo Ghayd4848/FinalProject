{
 "cells": [
  {
   "cell_type": "code",
   "execution_count": 1,
   "id": "284e5ffc",
   "metadata": {},
   "outputs": [
    {
     "name": "stdout",
     "output_type": "stream",
     "text": [
      "Requirement already satisfied: ortools in c:\\users\\dandr\\anaconda3\\lib\\site-packages (9.12.4544)\n",
      "Requirement already satisfied: absl-py>=2.0.0 in c:\\users\\dandr\\anaconda3\\lib\\site-packages (from ortools) (2.2.2)\n",
      "Requirement already satisfied: numpy>=1.13.3 in c:\\users\\dandr\\anaconda3\\lib\\site-packages (from ortools) (1.26.4)\n",
      "Requirement already satisfied: pandas>=2.0.0 in c:\\users\\dandr\\anaconda3\\lib\\site-packages (from ortools) (2.2.2)\n",
      "Requirement already satisfied: protobuf<5.30,>=5.29.3 in c:\\users\\dandr\\anaconda3\\lib\\site-packages (from ortools) (5.29.4)\n",
      "Requirement already satisfied: immutabledict>=3.0.0 in c:\\users\\dandr\\anaconda3\\lib\\site-packages (from ortools) (4.2.1)\n",
      "Requirement already satisfied: python-dateutil>=2.8.2 in c:\\users\\dandr\\anaconda3\\lib\\site-packages (from pandas>=2.0.0->ortools) (2.9.0.post0)\n",
      "Requirement already satisfied: pytz>=2020.1 in c:\\users\\dandr\\anaconda3\\lib\\site-packages (from pandas>=2.0.0->ortools) (2024.1)\n",
      "Requirement already satisfied: tzdata>=2022.7 in c:\\users\\dandr\\anaconda3\\lib\\site-packages (from pandas>=2.0.0->ortools) (2023.3)\n",
      "Requirement already satisfied: six>=1.5 in c:\\users\\dandr\\anaconda3\\lib\\site-packages (from python-dateutil>=2.8.2->pandas>=2.0.0->ortools) (1.16.0)\n",
      "load c:\\Users\\dandr\\anaconda3\\Lib\\site-packages\\ortools\\.libs\\zlib1.dll...\n",
      "load c:\\Users\\dandr\\anaconda3\\Lib\\site-packages\\ortools\\.libs\\abseil_dll.dll...\n",
      "load c:\\Users\\dandr\\anaconda3\\Lib\\site-packages\\ortools\\.libs\\utf8_validity.dll...\n",
      "load c:\\Users\\dandr\\anaconda3\\Lib\\site-packages\\ortools\\.libs\\re2.dll...\n",
      "load c:\\Users\\dandr\\anaconda3\\Lib\\site-packages\\ortools\\.libs\\libprotobuf.dll...\n",
      "load c:\\Users\\dandr\\anaconda3\\Lib\\site-packages\\ortools\\.libs\\highs.dll...\n",
      "load c:\\Users\\dandr\\anaconda3\\Lib\\site-packages\\ortools\\.libs\\ortools.dll...\n"
     ]
    }
   ],
   "source": [
    "import math\n",
    "!pip install ortools\n",
    "from ortools.constraint_solver import routing_enums_pb2\n",
    "from ortools.constraint_solver import pywrapcp\n"
   ]
  },
  {
   "cell_type": "code",
   "execution_count": null,
   "id": "f4ea2981",
   "metadata": {},
   "outputs": [],
   "source": [
    "def haversine(coord1, coord2):\n",
    "    lat1, lon1 = coord1\n",
    "    lat2, lon2 = coord2\n",
    "    R = 6371.0  # Earth radius in km\n",
    "    lat1, lon1, lat2, lon2 = map(math.radians, [lat1, lon1, lat2, lon2])\n",
    "    dlat = lat2 - lat1\n",
    "    dlon = lon2 - lon1\n",
    "    a = math.sin(dlat/2)**2 + math.cos(lat1)*math.cos(lat2)*math.sin(dlon/2)**2\n",
    "    c = 2*math.atan2(math.sqrt(a), math.sqrt(1 - a))\n",
    "    return R * c\n",
    "\n",
    "denver_airport = (\"Denver Airport\", (39.8571391027151, -104.67682422525337))\n",
    "resorts = [\n",
    "    denver_airport,\n",
    "    (\"Vail\",        (39.60634275473704, -106.35502534758554)),\n",
    "    (\"Beaver Creek\",(39.601840601122596, -106.53163266107806)),\n",
    "    (\"Breckenridge\",(39.48111351412133, -106.07307234912773)),\n",
    "    (\"Keystone\",    (39.58186424927065, -105.94362588806374)),\n",
    "    (\"A-Basin\",     (39.634289749362566, -105.8714993899124)),\n",
    "    (\"Eldora\",      (39.937376571357305, -105.58271078989766)),\n",
    "    (\"Canyons\",     (40.685834569379516, -111.55630231684529)),\n",
    "    (\"Heavenly\",    (38.9288904430737, -119.90519040528994)),\n",
    "    (\"Northstar\",   (39.26481569676928, -120.13316534575092)),\n",
    "    (\"Kirkwood\",    (38.68503611762454, -120.06520941879404)),\n",
    "    (\"Afton Alps\",  (44.85782048122588, -92.78779547430095)),\n",
    "    (\"Mt. Brighton\",(42.5410196899345, -83.81160753394613)),\n",
    "    (\"Verbier\",     (46.09708737973264,   7.227272162830475)),\n",
    "    (\"Arlberg\",     (47.129520437009155, 10.263859008628906)),\n",
    "    (\"The 3 Valleys\",(45.34154189826385,  6.586552723873957))\n",
    "]\n",
    "\n",
    "num_locations = len(resorts)\n",
    "distance_matrix = [\n",
    "    [\n",
    "        0 if i == j else int(haversine(resorts[i][1], resorts[j][1]))\n",
    "        for j in range(num_locations)\n",
    "    ]\n",
    "    for i in range(num_locations)\n",
    "]\n",
    "\n",
    "search_parameters = pywrapcp.DefaultRoutingSearchParameters()\n",
    "search_parameters.first_solution_strategy = (\n",
    "    routing_enums_pb2.FirstSolutionStrategy.PATH_CHEAPEST_ARC\n",
    ")"
   ]
  },
  {
   "cell_type": "code",
   "execution_count": null,
   "id": "5b86653a",
   "metadata": {},
   "outputs": [],
   "source": [
    "start_index   = 0  # DEN\n",
    "best_route    = None\n",
    "best_distance = float('inf')\n",
    "best_end      = None\n",
    "\n",
    "# loop over every possible end node to find the shortest path\n",
    "for end_index in range(num_locations):\n",
    "    if end_index == start_index:\n",
    "        continue\n",
    "\n",
    "    # manager & model for this (start, end) pair\n",
    "    manager = pywrapcp.RoutingIndexManager(\n",
    "        num_locations,\n",
    "        1,                # one vehicle\n",
    "        [start_index],    # start node list\n",
    "        [end_index]       # end node list\n",
    "    )\n",
    "    routing = pywrapcp.RoutingModel(manager)\n",
    "\n",
    "    # register the distance callback\n",
    "    def make_callback(dist_mat, mgr):\n",
    "        def distance_callback(from_idx, to_idx):\n",
    "            from_node = mgr.IndexToNode(from_idx)\n",
    "            to_node   = mgr.IndexToNode(to_idx)\n",
    "            return dist_mat[from_node][to_node]\n",
    "        return distance_callback\n",
    "\n",
    "    transit_cb = routing.RegisterTransitCallback(\n",
    "        make_callback(distance_matrix, manager)\n",
    "    )\n",
    "    routing.SetArcCostEvaluatorOfAllVehicles(transit_cb)\n",
    "\n",
    "    solution = routing.SolveWithParameters(search_parameters)\n",
    "    if solution is None:\n",
    "        continue"
   ]
  },
  {
   "cell_type": "markdown",
   "id": "1f611698",
   "metadata": {},
   "source": [
    "# Finding the best route"
   ]
  },
  {
   "cell_type": "code",
   "execution_count": null,
   "id": "760a3b7b",
   "metadata": {},
   "outputs": [
    {
     "name": "stdout",
     "output_type": "stream",
     "text": [
      "Best endpoint: The 3 Valleys\n",
      "Open-TSP optimal route:\n",
      "   Denver Airport\n",
      "   Eldora\n",
      "   A-Basin\n",
      "   Keystone\n",
      "   Breckenridge\n",
      "   Vail\n",
      "   Beaver Creek\n",
      "   Kirkwood\n",
      "   Heavenly\n",
      "   Northstar\n",
      "   Canyons\n",
      "   Afton Alps\n",
      "   Mt. Brighton\n",
      "   Arlberg\n",
      "   Verbier\n",
      "   The 3 Valleys\n",
      "Total distance (km): 11850\n"
     ]
    }
   ],
   "source": [
    "index      = routing.Start(0)\n",
    "route      = []\n",
    "route_dist = 0\n",
    "while not routing.IsEnd(index):\n",
    "    node = manager.IndexToNode(index)\n",
    "    route.append(resorts[node][0])\n",
    "    prev_index = index\n",
    "    index = solution.Value(routing.NextVar(index))\n",
    "    route_dist += routing.GetArcCostForVehicle(prev_index, index, 0)\n",
    "route.append(resorts[manager.IndexToNode(index)][0])\n",
    "\n",
    "\n",
    "if route_dist < best_distance:\n",
    "    best_distance = route_dist\n",
    "    best_route    = route\n",
    "    best_end      = end_index\n",
    "\n",
    "print(f\"Best endpoint: {resorts[best_end][0]}\")\n",
    "print(\"Open-TSP optimal route:\")\n",
    "for stop in best_route:\n",
    "    print(\"  \", stop)\n",
    "print(f\"Total distance (km): {best_distance}\")"
   ]
  },
  {
   "cell_type": "markdown",
   "id": "b7476e39",
   "metadata": {},
   "source": [
    "# Cost Calculation"
   ]
  },
  {
   "cell_type": "code",
   "execution_count": null,
   "id": "c6c5ffce",
   "metadata": {},
   "outputs": [
    {
     "name": "stdout",
     "output_type": "stream",
     "text": [
      "\n",
      "Total Open-TSP cost: $3,130.04\n"
     ]
    }
   ],
   "source": [
    "def km_to_miles(km):\n",
    "    return km / 1.60934\n",
    "\n",
    "drive_cost_per_mile = 0.58\n",
    "flight_variable_cost = 0.14\n",
    "flight_base_fee = 50\n",
    "threshold_miles = 400\n",
    "lodging_per_stop = 120\n",
    "\n",
    "total_cost = 0\n",
    "for i in range(1, len(best_route)):\n",
    "    name1 = best_route[i - 1]\n",
    "    name2 = best_route[i]\n",
    "\n",
    "    coord1 = dict(resorts)[name1]\n",
    "    coord2 = dict(resorts)[name2]\n",
    "\n",
    "    dist_km = haversine(coord1, coord2)\n",
    "    dist_miles = km_to_miles(dist_km)\n",
    "\n",
    "    if dist_miles > threshold_miles:\n",
    "        transport_cost = flight_base_fee + dist_miles * flight_variable_cost\n",
    "    else:\n",
    "        transport_cost = dist_miles * drive_cost_per_mile\n",
    "\n",
    "    lodging_cost = lodging_per_stop\n",
    "\n",
    "    total_cost += transport_cost + lodging_cost\n",
    "\n",
    "# Remove starting point lodging cost\n",
    "total_cost -= lodging_per_stop\n",
    "\n",
    "print(f\"\\nTotal Open-TSP cost: ${total_cost:,.2f}\")"
   ]
  }
 ],
 "metadata": {
  "kernelspec": {
   "display_name": "base",
   "language": "python",
   "name": "python3"
  },
  "language_info": {
   "codemirror_mode": {
    "name": "ipython",
    "version": 3
   },
   "file_extension": ".py",
   "mimetype": "text/x-python",
   "name": "python",
   "nbconvert_exporter": "python",
   "pygments_lexer": "ipython3",
   "version": "3.12.7"
  }
 },
 "nbformat": 4,
 "nbformat_minor": 5
}
